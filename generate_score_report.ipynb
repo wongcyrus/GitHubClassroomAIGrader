{
 "cells": [
  {
   "cell_type": "markdown",
   "metadata": {},
   "source": [
    "# Generate the score report\n",
    "Extract score for each sheet and convert GitHub Repo name to student ID"
   ]
  },
  {
   "cell_type": "code",
   "execution_count": null,
   "metadata": {},
   "outputs": [],
   "source": [
    "base_folder = \"data/ITE3101_practical_tests/ite-3101-practical-test-ab-submissions/\"\n",
    "human_score_review = \"human_score_review (completed).xlsx\"\n",
    "assignment_name = \"ite-3101-practical-test-ab\"\n",
    "student_id_github = \"GitHub.xlsx\""
   ]
  },
  {
   "cell_type": "code",
   "execution_count": null,
   "metadata": {},
   "outputs": [],
   "source": [
    "%pip install pandas"
   ]
  },
  {
   "cell_type": "code",
   "execution_count": null,
   "metadata": {},
   "outputs": [],
   "source": [
    "import pandas as pd\n",
    "\n",
    "# Load the Excel file\n",
    "excel_file = pd.ExcelFile(base_folder + human_score_review)\n",
    "student_df = pd.read_excel(base_folder + student_id_github)\n",
    "\n",
    "# Student ID is string\n",
    "student_df['Student ID'] = student_df['Student ID'].astype(str)\n",
    "\n",
    "# Create an empty dictionary to store the sheet dataframes\n",
    "sheet_dict = {}\n",
    "\n",
    "# Iterate over each sheet in the Excel file\n",
    "for sheet_name in excel_file.sheet_names:\n",
    "    # Read the sheet data into a dataframe\n",
    "    sheet_df = excel_file.parse(sheet_name)\n",
    "    # Keep the Directory and Score columns\n",
    "    sheet_df = sheet_df[['Directory', 'Score']]\n",
    "\n",
    "    # Remove the assignment name from the directory\n",
    "    sheet_df['Directory'] = sheet_df['Directory'].str.replace(\n",
    "        assignment_name+\"-\", '')\n",
    "    # rename Directory to GitHub Name\n",
    "    sheet_df = sheet_df.rename(columns={'Directory': 'GitHub Name'})\n",
    "    # # join the dataframes on GitHub Name. if GitHub Name does not exist in the student_df, it will be NaN\n",
    "    # sheet_df = sheet_df.join(student_df.set_index('GitHub Name'), on='GitHub Name')\n",
    "\n",
    "    # Rename Score to sheet_name\n",
    "    sheet_df = sheet_df.rename(columns={'Score': sheet_name})\n",
    "\n",
    "    # Add the dataframe to the dictionary with the sheet name as the key\n",
    "    sheet_dict[sheet_name] = sheet_df\n",
    "\n",
    "# Join all the dataframes in the dictionary value together into one dataframe on the GitHub Name column\n",
    "df = pd.concat(sheet_dict.values(), axis=1, join='outer')\n",
    "# Keep the first GitHub Name column\n",
    "df = df.iloc[:, ~df.columns.duplicated()]"
   ]
  },
  {
   "cell_type": "code",
   "execution_count": null,
   "metadata": {},
   "outputs": [],
   "source": [
    "df['Score'] = df.drop('GitHub Name', axis=1).sum(axis=1)\n",
    "\n",
    "# join the dataframes on GitHub Name. if GitHub Name does not exist in the student_df, it will be NaN\n",
    "df = df.join(student_df.set_index('GitHub Name'), on='GitHub Name')\n",
    "\n",
    "# Student ID to the first column, then Score to the second column\n",
    "cols = df.columns.tolist()\n",
    "cols = cols[-2:] + cols[:-2]\n",
    "df = df[cols]\n",
    "# swap the first two columns\n",
    "cols = df.columns.tolist()\n",
    "cols = cols[1:2] + cols[0:1] + cols[2:]\n",
    "df = df[cols]\n",
    "df.head()"
   ]
  },
  {
   "cell_type": "code",
   "execution_count": null,
   "metadata": {},
   "outputs": [],
   "source": [
    "df.to_excel(base_folder+assignment_name+\".xlsx\", index=False)"
   ]
  },
  {
   "cell_type": "code",
   "execution_count": null,
   "metadata": {},
   "outputs": [],
   "source": []
  }
 ],
 "metadata": {
  "kernelspec": {
   "display_name": "Python 3",
   "language": "python",
   "name": "python3"
  },
  "language_info": {
   "codemirror_mode": {
    "name": "ipython",
    "version": 3
   },
   "file_extension": ".py",
   "mimetype": "text/x-python",
   "name": "python",
   "nbconvert_exporter": "python",
   "pygments_lexer": "ipython3",
   "version": "3.8.10"
  }
 },
 "nbformat": 4,
 "nbformat_minor": 2
}
