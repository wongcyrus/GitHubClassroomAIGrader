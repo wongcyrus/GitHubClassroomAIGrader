{
 "cells": [
  {
   "cell_type": "markdown",
   "metadata": {},
   "source": [
    "# Google Cloud Platform Vertex AI Grader\n",
    "Use LLM to grade student programming answer"
   ]
  },
  {
   "cell_type": "code",
   "execution_count": null,
   "metadata": {},
   "outputs": [],
   "source": [
    "project_id = \"cyrus-testing-2023\"\n",
    "location = \"us-central1\"\n",
    "model_name=\"codechat-bison\"\n",
    "base_folder = \"data/ITE3101_practical_tests/ite-3101-practical-test-ab-submissions/\"\n",
    "answer_excel = \"student_answer.xlsx\"\n",
    "answer_excel_path = base_folder + answer_excel\n",
    "standard_answer_path = base_folder + \"standard_answer_ab.xlsx\""
   ]
  },
  {
   "cell_type": "markdown",
   "metadata": {},
   "source": [
    "Run the following following generated commands in terminal."
   ]
  },
  {
   "cell_type": "code",
   "execution_count": null,
   "metadata": {},
   "outputs": [],
   "source": [
    "commands =f\"\"\"gcloud auth application-default login\n",
    "gcloud auth application-default set-quota-project {project_id}\n",
    "gcloud auth login\n",
    "gcloud config set project {project_id}\n",
    "gcloud services enable aiplatform.googleapis.com\"\"\"\n",
    "print(commands)"
   ]
  },
  {
   "cell_type": "code",
   "execution_count": null,
   "metadata": {},
   "outputs": [],
   "source": [
    "%pip install langchain openai python-dotenv pandas openpyxl tqdm google-cloud-aiplatform"
   ]
  },
  {
   "cell_type": "code",
   "execution_count": null,
   "metadata": {},
   "outputs": [],
   "source": [
    "import pandas as pd\n",
    "\n",
    "student_answer_df = pd.read_excel(answer_excel_path)\n",
    "student_answer_df.head()"
   ]
  },
  {
   "cell_type": "code",
   "execution_count": null,
   "metadata": {},
   "outputs": [],
   "source": [
    "standard_answer = pd.read_excel(standard_answer_path)\n",
    "standard_answer.head()"
   ]
  },
  {
   "cell_type": "code",
   "execution_count": null,
   "metadata": {},
   "outputs": [],
   "source": [
    "standard_answer_dict = standard_answer.set_index(\n",
    "    'Question Name').to_dict(orient='index')"
   ]
  },
  {
   "cell_type": "code",
   "execution_count": null,
   "metadata": {},
   "outputs": [],
   "source": [
    "from langchain.chat_models import ChatVertexAI\n",
    "from langchain.prompts.chat import ChatPromptTemplate\n",
    "import langchain\n",
    "langchain.debug = False\n",
    "from langchain.output_parsers import PydanticOutputParser\n",
    "from langchain.pydantic_v1 import BaseModel, Field, validator\n",
    "from langchain.prompts import PromptTemplate, SystemMessagePromptTemplate, HumanMessagePromptTemplate\n",
    "\n",
    "# Define your desired data structure.\n",
    "class ScoreResult(BaseModel):\n",
    "    score: int = Field(description=\"Score\")\n",
    "    comments: str = Field(description=\"Comments\")\n",
    "    calculation: str = Field(description=\"Calculation\")\n",
    "\n",
    "parser = PydanticOutputParser(pydantic_object=ScoreResult)\n",
    "\n",
    "\n",
    "\n",
    "def score_answer(instruction, starter, answer, mark, student_answer, student_commit, temperature=0.1,prompt_file=\"grader_prompt.txt\"):\n",
    "    template = \"You are a Python programming instructor who grades student Python exercises.\"\n",
    "    with open(prompt_file) as f:\n",
    "        grader_prompt = f.read()\n",
    "\n",
    "    data = {\"instruction\": instruction,\n",
    "            \"starter\": starter,\n",
    "            \"answer\": answer,\n",
    "            \"mark\": mark,\n",
    "            \"student_answer\": student_answer,\n",
    "            \"student_commit\": student_commit}\n",
    "\n",
    "    prompt = PromptTemplate(\n",
    "        template=\"You are a Python programming instructor who grades student Python exercises.\\n{format_instructions}\\n\",\n",
    "        input_variables=[],\n",
    "        partial_variables={\"format_instructions\": parser.get_format_instructions()},\n",
    "    )\n",
    "    system_message_prompt = SystemMessagePromptTemplate(prompt=prompt)\n",
    "    human_message_prompt = HumanMessagePromptTemplate(prompt=PromptTemplate(\n",
    "                                    template=grader_prompt,\n",
    "                                    input_variables=[\"instruction\", \"starter\", \"answer\", \"mark\", \"student_answer\", \"student_commit\"],\n",
    "                                )\n",
    "                            )\n",
    "\n",
    "    chat_prompt = ChatPromptTemplate.from_messages([system_message_prompt, human_message_prompt])\n",
    "\n",
    "    llm = ChatVertexAI(\n",
    "        model_name=model_name, \n",
    "        location=location,\n",
    "        max_output_tokens=1024, \n",
    "        temperature=0.2\n",
    "    )\n",
    "    runnable = chat_prompt | llm | parser\n",
    "    \n",
    "    # Get the result\n",
    "    data = {\"instruction\": instruction,\n",
    "            \"starter\": starter,\n",
    "            \"answer\": answer,\n",
    "            \"mark\": mark,\n",
    "            \"student_answer\": student_answer,\n",
    "            \"student_commit\": student_commit}\n",
    "    output = runnable.invoke(data)\n",
    "    return output\n"
   ]
  },
  {
   "cell_type": "code",
   "execution_count": null,
   "metadata": {},
   "outputs": [],
   "source": [
    "from tqdm import tqdm\n",
    "from langchain_core.exceptions import OutputParserException\n",
    "\n",
    "parser_error_count = 0\n",
    "failed_cases = []\n",
    "last_exception = \"\"\n",
    "rows = []\n",
    "for index, row in tqdm(student_answer_df.iterrows(), total=len(student_answer_df)):\n",
    "    for key, value in standard_answer_dict.items():\n",
    "        question = key\n",
    "        instruction = value[\"Instruction\"]\n",
    "        starter = value[\"Starter\"]\n",
    "        answer = value[\"Answer\"]\n",
    "        mark = value[\"Mark\"]\n",
    "        student_answer = row[question + \" Content\"]\n",
    "        student_commit = row[question + \" Commit\"]\n",
    "\n",
    "        for _ in range(3):  # Retry 3 times\n",
    "            try:\n",
    "                result = score_answer(\n",
    "                    instruction, starter, answer, mark, student_answer, student_commit)               \n",
    "                row[question + \" Score\"] = result.score\n",
    "                row[question + \" Comments\"] = result.comments\n",
    "                row[question + \" Calculation\"] = result.calculation\n",
    "                break  # Break the loop if successful  \n",
    "            except OutputParserException as ex:               \n",
    "                last_exception = ex\n",
    "                parser_error_count += 1\n",
    "                continue\n",
    "        else:            \n",
    "            failed_cases.append({\"directory\": row['Directory'], \"question\": question,  \"exception\": last_exception})\n",
    "\n",
    "    rows.append(row)\n",
    "\n",
    "print(f\"Total OutputParserException: {parser_error_count}\")\n",
    "print(f\"Total failed cases: {len(failed_cases)}\")"
   ]
  },
  {
   "cell_type": "markdown",
   "metadata": {},
   "source": [
    "### Special Handling the failed case again\n",
    "You need to manually re-run it by turning the temperture and change the Prompt file."
   ]
  },
  {
   "cell_type": "code",
   "execution_count": null,
   "metadata": {},
   "outputs": [],
   "source": [
    "backup_student_answer_df = student_answer_df.copy()"
   ]
  },
  {
   "cell_type": "code",
   "execution_count": null,
   "metadata": {},
   "outputs": [],
   "source": [
    "print(f\"Total failed cases: {len(failed_cases)}\")\n",
    "\n",
    "orginal_model_name = model_name\n",
    "# You may change to use more powerful model\n",
    "# model_name = \"codechat-bison@002\"\n",
    "\n",
    "if len(failed_cases) > 0:\n",
    "    print(\"Failed cases:\")\n",
    "    for failed_case in failed_cases:\n",
    "        print(failed_case)\n",
    "        # Get row from student_answer_df by Directory\n",
    "        row = student_answer_df.loc[student_answer_df['Directory'] == failed_case[\"directory\"]]        \n",
    "        question = failed_case['question']\n",
    "        instruction = standard_answer_dict[question][\"Instruction\"]\n",
    "        starter = standard_answer_dict[question][\"Starter\"]\n",
    "        answer = standard_answer_dict[question][\"Answer\"]\n",
    "        mark = standard_answer_dict[question][\"Mark\"]      \n",
    "        student_answer = row[question + \" Content\"]\n",
    "        print(student_answer)\n",
    "        student_commit = row[question + \" Commit\"]\n",
    "        result = score_answer(instruction, starter, answer, mark, student_answer, student_commit, temperature=0.3)         \n",
    "        #update student_answer_df with result\n",
    "        row[question + \" Score\"] = result.score\n",
    "        row[question + \" Comments\"] = result.comments\n",
    "        row[question + \" Calculation\"] = result.calculation\n",
    "        # replace row in student_answer_df\n",
    "        # student_answer_df.loc[student_answer_df['Directory'] == failed_case[\"directory\"]] = row\n",
    "        #remove failed case from failed_cases\n",
    "        failed_cases.remove(failed_case)\n",
    "\n",
    "model_name = orginal_model_name"
   ]
  },
  {
   "cell_type": "code",
   "execution_count": null,
   "metadata": {},
   "outputs": [],
   "source": [
    "scored_df = pd.DataFrame(rows)\n",
    "scored_df.head()"
   ]
  },
  {
   "cell_type": "code",
   "execution_count": null,
   "metadata": {},
   "outputs": [],
   "source": [
    "default_value = 0  # or any other value you want to replace NaN with\n",
    "scored_df[scored_df.filter(like='Score').columns] = scored_df.filter(like='Score').fillna(default_value).astype(int)\n",
    "scored_df[scored_df.filter(like='Commit').columns] = scored_df.filter(like='Commit').fillna(default_value).astype(int)\n",
    "scored_df['total_score'] = scored_df.filter(like='Score').sum(axis=1)\n",
    "scored_df.head()"
   ]
  },
  {
   "cell_type": "code",
   "execution_count": null,
   "metadata": {},
   "outputs": [],
   "source": [
    "score_columns = scored_df.filter(like='Score').columns\n",
    "scored_df = scored_df[[\n",
    "    col for col in scored_df.columns if col not in score_columns] + list(score_columns)]\n",
    "scored_df.head()"
   ]
  },
  {
   "cell_type": "code",
   "execution_count": null,
   "metadata": {},
   "outputs": [],
   "source": [
    "import os\n",
    "excel_file_path = os.path.join(base_folder, f'student_score_{model_name}.xlsx')\n",
    "scored_df.to_excel(excel_file_path, index=False)"
   ]
  }
 ],
 "metadata": {
  "kernelspec": {
   "display_name": "Python 3",
   "language": "python",
   "name": "python3"
  },
  "language_info": {
   "codemirror_mode": {
    "name": "ipython",
    "version": 3
   },
   "file_extension": ".py",
   "mimetype": "text/x-python",
   "name": "python",
   "nbconvert_exporter": "python",
   "pygments_lexer": "ipython3",
   "version": "3.8.10"
  }
 },
 "nbformat": 4,
 "nbformat_minor": 2
}
