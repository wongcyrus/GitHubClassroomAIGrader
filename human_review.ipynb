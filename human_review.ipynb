{
 "cells": [
  {
   "cell_type": "markdown",
   "metadata": {},
   "source": [
    "# Human review\n",
    "Combine AI result into excel for human review"
   ]
  },
  {
   "cell_type": "code",
   "execution_count": null,
   "metadata": {},
   "outputs": [],
   "source": [
    "base_folder = \"data/ITE3101_practical_tests/ite-3101-practical-test-ab-submissions/\""
   ]
  },
  {
   "cell_type": "code",
   "execution_count": null,
   "metadata": {},
   "outputs": [],
   "source": [
    "%pip install pandas openpyxl xlsxwriter"
   ]
  },
  {
   "cell_type": "code",
   "execution_count": null,
   "metadata": {},
   "outputs": [],
   "source": [
    "import glob\n",
    "import pandas as pd\n",
    "\n",
    "xlsx_files = glob.glob(base_folder + \"student_score_*.xlsx\")\n",
    "file_names = [file.split(\"/\")[-1] for file in xlsx_files]\n",
    "print(file_names)\n",
    "file_dict = {file_name.replace(\"student_score_\", \"\").replace(\n",
    "    \".xlsx\", \"\"): file_name for file_name in file_names}\n",
    "print(file_dict)\n",
    "dataframes = {}\n",
    "for key, value in file_dict.items():\n",
    "    dataframes[key] = pd.read_excel(base_folder+value)\n",
    "\n",
    "dataframes"
   ]
  },
  {
   "cell_type": "code",
   "execution_count": null,
   "metadata": {},
   "outputs": [],
   "source": [
    "first_dataframe = next(iter(dataframes.values()))\n",
    "questions = [col.replace(\" Content\", \"\")\n",
    "             for col in first_dataframe.columns if col.endswith(\" Content\")]\n",
    "questions"
   ]
  },
  {
   "cell_type": "code",
   "execution_count": null,
   "metadata": {},
   "outputs": [],
   "source": [
    "base_dataframe = first_dataframe[['Directory',\n",
    "                                  'Commit Time', 'After Deadline']].copy()\n",
    "base_dataframe.head()"
   ]
  },
  {
   "cell_type": "code",
   "execution_count": null,
   "metadata": {},
   "outputs": [],
   "source": [
    "new_dataframes = dataframes.copy()\n",
    "\n",
    "question_scores = {}\n",
    "for model, report in new_dataframes.items():\n",
    "    for question in questions:\n",
    "        # get the column name containing the question\n",
    "        question_cols = ['Directory'] + \\\n",
    "            [col for col in report.columns if question in col]\n",
    "        question_df = report[question_cols]\n",
    "        # remove the question from the column name and trim the column name\n",
    "        question_df.columns = [col.replace(\n",
    "            question, \"\").strip() for col in question_df.columns]\n",
    "        # excpet for Directory, Content and Commit ,add model as prefix to the column name\n",
    "        question_df.columns = [model + \" \" + col if col not in ['Directory',\n",
    "                                                                'Content', 'Commit'] else col for col in question_df.columns]\n",
    "\n",
    "        # print(question, question_df.columns)\n",
    "        if question not in question_scores:\n",
    "            question_scores[question] = question_df\n",
    "        else:\n",
    "            # for duplicated column names, only keep the first one\n",
    "            question_scores[question] = pd.merge(question_scores[question], question_df, on=[\n",
    "                                                 'Directory', 'Content', 'Commit'], how='outer')"
   ]
  },
  {
   "cell_type": "code",
   "execution_count": null,
   "metadata": {},
   "outputs": [],
   "source": [
    "for question, dataframe in question_scores.items():\n",
    "    # Move \"Content\" column to last column\n",
    "    dataframe = dataframe[[\n",
    "        col for col in dataframe.columns if col != \"Content\"] + [\"Content\"]]\n",
    "    # In Content column, replace carriage returns to line feed\n",
    "    dataframe[\"Content\"] = dataframe[\"Content\"].str.replace(\"\\n\", \"\\r\\n\")\n",
    "\n",
    "    # Calculate the average of columns ending with \"Score\"\n",
    "    score_columns = [col for col in dataframe.columns if col.endswith(\"Score\")]\n",
    "    dataframe[\"Average\"] = dataframe[score_columns].mean(axis=1)\n",
    "    dataframe[\"Score\"] = dataframe[score_columns].mean(axis=1)\n",
    "\n",
    "    # Update the dataframe in question_scores\n",
    "    question_scores[question] = dataframe"
   ]
  },
  {
   "cell_type": "code",
   "execution_count": null,
   "metadata": {},
   "outputs": [],
   "source": [
    "import pandas as pd\n",
    "from openpyxl.utils.dataframe import dataframe_to_rows\n",
    "\n",
    "# Create a new Excel file\n",
    "writer = pd.ExcelWriter(\n",
    "    base_folder+'human_score_review.xlsx', engine='xlsxwriter')\n",
    "\n",
    "\n",
    "# Write each question_scores dataframe to a separate sheet\n",
    "for question, dataframe in question_scores.items():\n",
    "    dataframe.to_excel(writer, sheet_name=question, index=False)\n",
    "    # get the worksheet for the current question\n",
    "    worksheet = writer.sheets[question]\n",
    "    row_heights = (dataframe[\"Content\"].str.count(\"\\r\\n\") + 1) * 15\n",
    "    # set height of each row to 12.75 points times the number of lines in the content\n",
    "    for row, height in enumerate(row_heights):\n",
    "        worksheet.set_row(row+1, height)\n",
    "     # set column width of \"Content\" column to the longest line split by line feed\n",
    "    max_content_width = dataframe[\"Content\"].str.split(\n",
    "        \"\\r\\n\").str.len().max() * 2\n",
    "    # get the index of the \"Content\" column\n",
    "    content_col = dataframe.columns.get_loc(\"Content\")\n",
    "    # print(question, max_content_width, content_col)\n",
    "    worksheet.set_column(content_col, content_col, max_content_width)\n",
    "\n",
    "    for model in new_dataframes.keys():\n",
    "        worksheet.set_column(\n",
    "            dataframe.columns.get_loc(model + \" Calculation\"), dataframe.columns.get_loc(model + \" Calculation\"), 60)\n",
    "        worksheet.set_column(\n",
    "            dataframe.columns.get_loc(model + \" Comments\"), dataframe.columns.get_loc(model + \" Comments\"), 60)\n",
    "\n",
    "\n",
    "# Save the Excel file\n",
    "writer.close()"
   ]
  },
  {
   "cell_type": "code",
   "execution_count": null,
   "metadata": {},
   "outputs": [],
   "source": []
  }
 ],
 "metadata": {
  "kernelspec": {
   "display_name": "Python 3",
   "language": "python",
   "name": "python3"
  },
  "language_info": {
   "codemirror_mode": {
    "name": "ipython",
    "version": 3
   },
   "file_extension": ".py",
   "mimetype": "text/x-python",
   "name": "python",
   "nbconvert_exporter": "python",
   "pygments_lexer": "ipython3",
   "version": "3.8.10"
  }
 },
 "nbformat": 4,
 "nbformat_minor": 2
}
