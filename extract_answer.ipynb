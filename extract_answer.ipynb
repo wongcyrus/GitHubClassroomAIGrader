{
 "cells": [
  {
   "cell_type": "markdown",
   "metadata": {},
   "source": [
    "# Extract Answer\n",
    "\n",
    "Read each student repo and save their source code and number of commit to excel."
   ]
  },
  {
   "cell_type": "code",
   "execution_count": null,
   "metadata": {},
   "outputs": [],
   "source": [
    "from datetime import datetime\n",
    "base_folder = \"data/ITE3101_practical_tests/ite-3101-practical-test-ab-submissions/\"\n",
    "code_files = [\"lab/lab01/ch01_t01_q1.py\", \"lab/lab01/ch01_t02_q2.py\",\n",
    "              \"lab/lab01/ch01_t03_q3.py\", \"lab/lab01/ch01_t04_q4.py\"]\n",
    "deadline = datetime.strptime(\"2023-11-27 16:00:00\", \"%Y-%m-%d %H:%M:%S\")"
   ]
  },
  {
   "cell_type": "code",
   "execution_count": null,
   "metadata": {},
   "outputs": [],
   "source": [
    "%pip install GitPython pandas openpyxl"
   ]
  },
  {
   "cell_type": "code",
   "execution_count": null,
   "metadata": {},
   "outputs": [],
   "source": [
    "import os\n",
    "from git import Repo\n",
    "\n",
    "commit_times = {}\n",
    "\n",
    "for directory in os.listdir(base_folder):\n",
    "    directory_path = os.path.join(base_folder, directory)\n",
    "    if os.path.isdir(directory_path):\n",
    "        repo = Repo(directory_path)\n",
    "        last_commit = repo.head.commit\n",
    "        commit_times[directory] = last_commit.committed_datetime\n",
    "\n",
    "commit_times"
   ]
  },
  {
   "cell_type": "code",
   "execution_count": null,
   "metadata": {},
   "outputs": [],
   "source": [
    "import pandas as pd\n",
    "from pytz import utc\n",
    "\n",
    "df_commit_times = pd.DataFrame(commit_times.items(), columns=[\n",
    "                               'Directory', 'Commit Time'])\n",
    "df_commit_times['Commit Time'] = pd.to_datetime(\n",
    "    df_commit_times['Commit Time'], utc=True)\n",
    "# Convert deadline to datetime64[ns, UTC]\n",
    "deadline = pd.to_datetime(deadline, utc=True)\n",
    "df_commit_times['After Deadline'] = df_commit_times['Commit Time'] > deadline\n",
    "\n",
    "df_commit_times"
   ]
  },
  {
   "cell_type": "markdown",
   "metadata": {},
   "source": [
    "Check any student commit code after the deadline."
   ]
  },
  {
   "cell_type": "code",
   "execution_count": null,
   "metadata": {},
   "outputs": [],
   "source": [
    "filtered_df = df_commit_times[df_commit_times['After Deadline']]\n",
    "filtered_df"
   ]
  },
  {
   "cell_type": "code",
   "execution_count": null,
   "metadata": {},
   "outputs": [],
   "source": [
    "import os\n",
    "from git import Repo\n",
    "\n",
    "\n",
    "def get_number_of_commits(repo_path, file_path):\n",
    "    repo = Repo(repo_path)\n",
    "    commits = list(repo.iter_commits(paths=file_path))\n",
    "    return len(commits)\n",
    "\n",
    "\n",
    "for code_file in code_files:\n",
    "    column_name = os.path.basename(code_file)\n",
    "    file_content = []\n",
    "    number_of_code_commit = []\n",
    "\n",
    "    for directory in df_commit_times['Directory']:\n",
    "        file_path = os.path.join(base_folder, directory, code_file)\n",
    "        if os.path.isfile(file_path):\n",
    "            with open(file_path, 'r') as file:\n",
    "                content = file.read()\n",
    "                file_content.append(content)\n",
    "                # get the number of GitHub commit for file_path\n",
    "                number_of_code_commit.append(get_number_of_commits(\n",
    "                    os.path.join(base_folder, directory), code_file))\n",
    "        else:\n",
    "            file_content.append(None)\n",
    "            number_of_code_commit.append(0)\n",
    "    df_commit_times[column_name + ' Content'] = file_content\n",
    "    df_commit_times[column_name + ' Commit'] = number_of_code_commit\n",
    "\n",
    "\n",
    "df_commit_times"
   ]
  },
  {
   "cell_type": "code",
   "execution_count": null,
   "metadata": {},
   "outputs": [],
   "source": [
    "import os\n",
    "\n",
    "# Convert timezone-aware datetime to timezone-naive\n",
    "df_commit_times['Commit Time'] = df_commit_times['Commit Time'].dt.tz_convert(\n",
    "    None)\n",
    "\n",
    "excel_file_path = os.path.join(base_folder, 'student_answer.xlsx')\n",
    "df_commit_times.to_excel(excel_file_path, index=False)"
   ]
  },
  {
   "cell_type": "code",
   "execution_count": null,
   "metadata": {},
   "outputs": [],
   "source": []
  }
 ],
 "metadata": {
  "kernelspec": {
   "display_name": "Python 3",
   "language": "python",
   "name": "python3"
  },
  "language_info": {
   "codemirror_mode": {
    "name": "ipython",
    "version": 3
   },
   "file_extension": ".py",
   "mimetype": "text/x-python",
   "name": "python",
   "nbconvert_exporter": "python",
   "pygments_lexer": "ipython3",
   "version": "3.8.10"
  }
 },
 "nbformat": 4,
 "nbformat_minor": 2
}
